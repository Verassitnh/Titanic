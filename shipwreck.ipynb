{
 "cells": [
  {
   "cell_type": "markdown",
   "metadata": {},
   "source": [
    "### Import Libraries"
   ]
  },
  {
   "cell_type": "code",
   "execution_count": 70,
   "metadata": {},
   "outputs": [],
   "source": [
    "import pandas as pd\n",
    "from sklearn.tree import DecisionTreeClassifier\n",
    "from sklearn.model_selection import train_test_split\n",
    "from sklearn.metrics import accuracy_score\n",
    "from sklearn import tree"
   ]
  },
  {
   "cell_type": "markdown",
   "metadata": {},
   "source": [
    "### Read Dataset & Clean up Data"
   ]
  },
  {
   "cell_type": "code",
   "execution_count": 71,
   "metadata": {},
   "outputs": [
    {
     "data": {
      "text/html": "<div>\n<style scoped>\n    .dataframe tbody tr th:only-of-type {\n        vertical-align: middle;\n    }\n\n    .dataframe tbody tr th {\n        vertical-align: top;\n    }\n\n    .dataframe thead th {\n        text-align: right;\n    }\n</style>\n<table border=\"1\" class=\"dataframe\">\n  <thead>\n    <tr style=\"text-align: right;\">\n      <th></th>\n      <th>Survived</th>\n      <th>Pclass</th>\n      <th>Sex</th>\n      <th>Age</th>\n      <th>SibSp</th>\n      <th>Parch</th>\n    </tr>\n  </thead>\n  <tbody>\n    <tr>\n      <th>count</th>\n      <td>714.000000</td>\n      <td>714.000000</td>\n      <td>714.000000</td>\n      <td>714.000000</td>\n      <td>714.000000</td>\n      <td>714.000000</td>\n    </tr>\n    <tr>\n      <th>mean</th>\n      <td>0.406162</td>\n      <td>2.236695</td>\n      <td>0.365546</td>\n      <td>29.699118</td>\n      <td>0.512605</td>\n      <td>0.431373</td>\n    </tr>\n    <tr>\n      <th>std</th>\n      <td>0.491460</td>\n      <td>0.838250</td>\n      <td>0.481921</td>\n      <td>14.526497</td>\n      <td>0.929783</td>\n      <td>0.853289</td>\n    </tr>\n    <tr>\n      <th>min</th>\n      <td>0.000000</td>\n      <td>1.000000</td>\n      <td>0.000000</td>\n      <td>0.420000</td>\n      <td>0.000000</td>\n      <td>0.000000</td>\n    </tr>\n    <tr>\n      <th>25%</th>\n      <td>0.000000</td>\n      <td>1.000000</td>\n      <td>0.000000</td>\n      <td>20.125000</td>\n      <td>0.000000</td>\n      <td>0.000000</td>\n    </tr>\n    <tr>\n      <th>50%</th>\n      <td>0.000000</td>\n      <td>2.000000</td>\n      <td>0.000000</td>\n      <td>28.000000</td>\n      <td>0.000000</td>\n      <td>0.000000</td>\n    </tr>\n    <tr>\n      <th>75%</th>\n      <td>1.000000</td>\n      <td>3.000000</td>\n      <td>1.000000</td>\n      <td>38.000000</td>\n      <td>1.000000</td>\n      <td>1.000000</td>\n    </tr>\n    <tr>\n      <th>max</th>\n      <td>1.000000</td>\n      <td>3.000000</td>\n      <td>1.000000</td>\n      <td>80.000000</td>\n      <td>5.000000</td>\n      <td>6.000000</td>\n    </tr>\n  </tbody>\n</table>\n</div>",
      "text/plain": "         Survived      Pclass         Sex         Age       SibSp       Parch\ncount  714.000000  714.000000  714.000000  714.000000  714.000000  714.000000\nmean     0.406162    2.236695    0.365546   29.699118    0.512605    0.431373\nstd      0.491460    0.838250    0.481921   14.526497    0.929783    0.853289\nmin      0.000000    1.000000    0.000000    0.420000    0.000000    0.000000\n25%      0.000000    1.000000    0.000000   20.125000    0.000000    0.000000\n50%      0.000000    2.000000    0.000000   28.000000    0.000000    0.000000\n75%      1.000000    3.000000    1.000000   38.000000    1.000000    1.000000\nmax      1.000000    3.000000    1.000000   80.000000    5.000000    6.000000"
     },
     "execution_count": 71,
     "metadata": {},
     "output_type": "execute_result"
    }
   ],
   "source": [
    "df = pd.read_csv('https://cdn.techroulette.xyz/projects/shipwreck/data/m3_data.csv')\n",
    "\n",
    "df = df.drop([\"PassengerId\", \"Name\", \"Ticket\", \"Cabin\", \"Fare\", \"Embarked\"], axis=1)\n",
    "df = df.replace({'male': 0, 'female': 1})\n",
    "df = df.dropna()\n",
    "\n",
    "df.describe()"
   ]
  },
  {
   "cell_type": "markdown",
   "metadata": {},
   "source": [
    "### Prepare and train model"
   ]
  },
  {
   "cell_type": "code",
   "execution_count": 72,
   "metadata": {},
   "outputs": [
    {
     "data": {
      "text/plain": "DecisionTreeClassifier()"
     },
     "execution_count": 72,
     "metadata": {},
     "output_type": "execute_result"
    }
   ],
   "source": [
    "Y = df.pop('Survived')\n",
    "X = df\n",
    "\n",
    "X_train, X_test, Y_train, Y_test = train_test_split(X, Y, test_size=0.15)\n",
    "\n",
    "model = DecisionTreeClassifier()\n",
    "model.fit(X_train, Y_train)\n"
   ]
  },
  {
   "cell_type": "markdown",
   "metadata": {},
   "source": [
    "### Test model"
   ]
  },
  {
   "cell_type": "code",
   "execution_count": 73,
   "metadata": {},
   "outputs": [
    {
     "data": {
      "text/plain": "0.7870370370370371"
     },
     "execution_count": 73,
     "metadata": {},
     "output_type": "execute_result"
    }
   ],
   "source": [
    "predictions = model.predict(X_test)\n",
    "\n",
    "accuracy_score(Y_test, predictions)"
   ]
  },
  {
   "cell_type": "code",
   "execution_count": null,
   "metadata": {},
   "outputs": [],
   "source": []
  },
  {
   "cell_type": "markdown",
   "metadata": {},
   "source": [
    "### Visualize"
   ]
  },
  {
   "cell_type": "code",
   "execution_count": 74,
   "metadata": {},
   "outputs": [],
   "source": [
    "tree.export_graphviz(model, out_file='shipwreck.dot', feature_names=[\"Pclass\", \"Sex\", \"Age\", \"SibSp\", \"Parch\"], label=\"all\", rounded=True, filled=True, class_names=[\"Died\", \"Survived\"])"
   ]
  }
 ],
 "metadata": {
  "language_info": {},
  "orig_nbformat": 3
 },
 "nbformat": 4,
 "nbformat_minor": 4
}